{
 "cells": [
  {
   "cell_type": "code",
   "execution_count": 1,
   "metadata": {},
   "outputs": [],
   "source": [
    "import pandas as pd\n",
    "import requests\n",
    "from bs4 import BeautifulSoup\n",
    "import lightgbm as lgb\n",
    "import numpy as np\n",
    "\n",
    "from sklearn.model_selection import train_test_split\n",
    "from sklearn.metrics import accuracy_score\n",
    "from sklearn.metrics import confusion_matrix"
   ]
  },
  {
   "cell_type": "code",
   "execution_count": 2,
   "metadata": {},
   "outputs": [],
   "source": [
    "r = requests.get('https://api.hearthstonejson.com/v1/44582/enUS/cards.collectible.json')\n",
    "\n",
    "data = pd.DataFrame(r.json())\n",
    "\n",
    "data.set_index(\"name\", inplace = True)"
   ]
  },
  {
   "cell_type": "markdown",
   "metadata": {},
   "source": [
    "### Columns to drop\n",
    "\n",
    "- id:\n",
    "- armor:\n",
    "- flavor:\n",
    "- collectible\n",
    "- faction\n",
    "- artist\n",
    "- collectionText\n",
    "- battlegroundsPremiumDbfId\n",
    "- elite (if true can only have one copy in deck -> same as legendary"
   ]
  },
  {
   "cell_type": "code",
   "execution_count": 3,
   "metadata": {},
   "outputs": [],
   "source": [
    "col_drop = ['id', 'armor', 'flavor', 'collectible',\n",
    "            'faction', 'artist', 'dbfId', 'collectionText',\n",
    "            'battlegroundsPremiumDbfId', 'howToEarn', 'questReward',\n",
    "           'howToEarnGolden', 'hideStats', 'targetingArrowText', \"elite\"]\n",
    "data.drop(columns = col_drop, inplace = True)\n",
    "\n"
   ]
  },
  {
   "cell_type": "code",
   "execution_count": 7,
   "metadata": {},
   "outputs": [],
   "source": [
    "# clean card text of html artifacts\n",
    "data.loc[:, \"text\"] = data.loc[:, \"text\"].str.replace(\"<b>|</b>|<i>\" ,\"\", regex = True)\n",
    "data.loc[:, \"text\"] = data.loc[:, \"text\"].str.replace(\"\\[x\\]\" ,\"\")\n",
    "data.loc[:, \"text\"]= data.loc[:, \"text\"].str.replace(\"\\\\n\" ,\" \", regex = True)\n"
   ]
  },
  {
   "cell_type": "code",
   "execution_count": 30,
   "metadata": {},
   "outputs": [
    {
     "data": {
      "text/plain": [
       "2497"
      ]
     },
     "execution_count": 30,
     "metadata": {},
     "output_type": "execute_result"
    }
   ],
   "source": [
    "data.mechanics.str.get(2).isna()"
   ]
  },
  {
   "cell_type": "code",
   "execution_count": 58,
   "metadata": {},
   "outputs": [],
   "source": [
    "# create iterable which store unique list of all mechanics\n",
    "unique_mechanics = set(data.mechanics.explode().str.cat(sep=',').split(\",\"))\n",
    "\n",
    "a = pd.DataFrame([])\n",
    "\n",
    "for i in unique_mechanics:\n",
    "    \n",
    "    for j in range(5):\n",
    "        \n",
    "        data[f\"mechanic_{i}\"] = data.mechanics.str.get(j).isin([f'{i}']).astype(int)"
   ]
  },
  {
   "cell_type": "code",
   "execution_count": 69,
   "metadata": {},
   "outputs": [
    {
     "data": {
      "text/plain": [
       "name\n",
       "Flame Lance           0\n",
       "Effigy                0\n",
       "Fallen Hero           0\n",
       "Arcane Blast          0\n",
       "Polymorph: Boar       0\n",
       "                     ..\n",
       "Sky Gen'ral Kragg     1\n",
       "Steel Beetle          0\n",
       "Eye of the Storm      0\n",
       "The Fist of Ra-den    0\n",
       "Scalelord             0\n",
       "Name: mechanics, Length: 2537, dtype: int64"
      ]
     },
     "execution_count": 69,
     "metadata": {},
     "output_type": "execute_result"
    }
   ],
   "source": [
    "data.mechanics.str.get(1).isin(['TAUNT']).astype(int)"
   ]
  },
  {
   "cell_type": "code",
   "execution_count": 103,
   "metadata": {},
   "outputs": [
    {
     "data": {
      "text/html": [
       "<div>\n",
       "<style scoped>\n",
       "    .dataframe tbody tr th:only-of-type {\n",
       "        vertical-align: middle;\n",
       "    }\n",
       "\n",
       "    .dataframe tbody tr th {\n",
       "        vertical-align: top;\n",
       "    }\n",
       "\n",
       "    .dataframe thead th {\n",
       "        text-align: right;\n",
       "    }\n",
       "</style>\n",
       "<table border=\"1\" class=\"dataframe\">\n",
       "  <thead>\n",
       "    <tr style=\"text-align: right;\">\n",
       "      <th>mechanics</th>\n",
       "      <th>NaN</th>\n",
       "      <th>ADJACENT_BUFF</th>\n",
       "      <th>AFFECTED_BY_SPELL_POWER</th>\n",
       "      <th>AURA</th>\n",
       "      <th>BATTLECRY</th>\n",
       "      <th>CANT_ATTACK</th>\n",
       "      <th>CANT_BE_TARGETED_BY_HERO_POWERS</th>\n",
       "      <th>CANT_BE_TARGETED_BY_SPELLS</th>\n",
       "      <th>CHARGE</th>\n",
       "      <th>CHOOSE_ONE</th>\n",
       "      <th>...</th>\n",
       "      <th>SIDEQUEST</th>\n",
       "      <th>SILENCE</th>\n",
       "      <th>SPELLPOWER</th>\n",
       "      <th>START_OF_GAME</th>\n",
       "      <th>STEALTH</th>\n",
       "      <th>TAUNT</th>\n",
       "      <th>TOPDECK</th>\n",
       "      <th>TRIGGER_VISUAL</th>\n",
       "      <th>TWINSPELL</th>\n",
       "      <th>WINDFURY</th>\n",
       "    </tr>\n",
       "    <tr>\n",
       "      <th>name</th>\n",
       "      <th></th>\n",
       "      <th></th>\n",
       "      <th></th>\n",
       "      <th></th>\n",
       "      <th></th>\n",
       "      <th></th>\n",
       "      <th></th>\n",
       "      <th></th>\n",
       "      <th></th>\n",
       "      <th></th>\n",
       "      <th></th>\n",
       "      <th></th>\n",
       "      <th></th>\n",
       "      <th></th>\n",
       "      <th></th>\n",
       "      <th></th>\n",
       "      <th></th>\n",
       "      <th></th>\n",
       "      <th></th>\n",
       "      <th></th>\n",
       "      <th></th>\n",
       "    </tr>\n",
       "  </thead>\n",
       "  <tbody>\n",
       "    <tr>\n",
       "      <th>A Light in the Darkness</th>\n",
       "      <td>NaN</td>\n",
       "      <td>NaN</td>\n",
       "      <td>NaN</td>\n",
       "      <td>NaN</td>\n",
       "      <td>NaN</td>\n",
       "      <td>NaN</td>\n",
       "      <td>NaN</td>\n",
       "      <td>NaN</td>\n",
       "      <td>NaN</td>\n",
       "      <td>NaN</td>\n",
       "      <td>...</td>\n",
       "      <td>NaN</td>\n",
       "      <td>NaN</td>\n",
       "      <td>NaN</td>\n",
       "      <td>NaN</td>\n",
       "      <td>NaN</td>\n",
       "      <td>NaN</td>\n",
       "      <td>NaN</td>\n",
       "      <td>NaN</td>\n",
       "      <td>NaN</td>\n",
       "      <td>NaN</td>\n",
       "    </tr>\n",
       "    <tr>\n",
       "      <th>A New Challenger...</th>\n",
       "      <td>NaN</td>\n",
       "      <td>NaN</td>\n",
       "      <td>NaN</td>\n",
       "      <td>NaN</td>\n",
       "      <td>NaN</td>\n",
       "      <td>NaN</td>\n",
       "      <td>NaN</td>\n",
       "      <td>NaN</td>\n",
       "      <td>NaN</td>\n",
       "      <td>NaN</td>\n",
       "      <td>...</td>\n",
       "      <td>NaN</td>\n",
       "      <td>NaN</td>\n",
       "      <td>NaN</td>\n",
       "      <td>NaN</td>\n",
       "      <td>NaN</td>\n",
       "      <td>NaN</td>\n",
       "      <td>NaN</td>\n",
       "      <td>NaN</td>\n",
       "      <td>NaN</td>\n",
       "      <td>NaN</td>\n",
       "    </tr>\n",
       "    <tr>\n",
       "      <th>Aberrant Berserker</th>\n",
       "      <td>NaN</td>\n",
       "      <td>NaN</td>\n",
       "      <td>NaN</td>\n",
       "      <td>NaN</td>\n",
       "      <td>NaN</td>\n",
       "      <td>NaN</td>\n",
       "      <td>NaN</td>\n",
       "      <td>NaN</td>\n",
       "      <td>NaN</td>\n",
       "      <td>NaN</td>\n",
       "      <td>...</td>\n",
       "      <td>NaN</td>\n",
       "      <td>NaN</td>\n",
       "      <td>NaN</td>\n",
       "      <td>NaN</td>\n",
       "      <td>NaN</td>\n",
       "      <td>NaN</td>\n",
       "      <td>NaN</td>\n",
       "      <td>NaN</td>\n",
       "      <td>NaN</td>\n",
       "      <td>NaN</td>\n",
       "    </tr>\n",
       "    <tr>\n",
       "      <th>Abominable Bowman</th>\n",
       "      <td>NaN</td>\n",
       "      <td>NaN</td>\n",
       "      <td>NaN</td>\n",
       "      <td>NaN</td>\n",
       "      <td>NaN</td>\n",
       "      <td>NaN</td>\n",
       "      <td>NaN</td>\n",
       "      <td>NaN</td>\n",
       "      <td>NaN</td>\n",
       "      <td>NaN</td>\n",
       "      <td>...</td>\n",
       "      <td>NaN</td>\n",
       "      <td>NaN</td>\n",
       "      <td>NaN</td>\n",
       "      <td>NaN</td>\n",
       "      <td>NaN</td>\n",
       "      <td>NaN</td>\n",
       "      <td>NaN</td>\n",
       "      <td>NaN</td>\n",
       "      <td>NaN</td>\n",
       "      <td>NaN</td>\n",
       "    </tr>\n",
       "    <tr>\n",
       "      <th>Abomination</th>\n",
       "      <td>NaN</td>\n",
       "      <td>NaN</td>\n",
       "      <td>NaN</td>\n",
       "      <td>NaN</td>\n",
       "      <td>NaN</td>\n",
       "      <td>NaN</td>\n",
       "      <td>NaN</td>\n",
       "      <td>NaN</td>\n",
       "      <td>NaN</td>\n",
       "      <td>NaN</td>\n",
       "      <td>...</td>\n",
       "      <td>NaN</td>\n",
       "      <td>NaN</td>\n",
       "      <td>NaN</td>\n",
       "      <td>NaN</td>\n",
       "      <td>NaN</td>\n",
       "      <td>TAUNT</td>\n",
       "      <td>NaN</td>\n",
       "      <td>NaN</td>\n",
       "      <td>NaN</td>\n",
       "      <td>NaN</td>\n",
       "    </tr>\n",
       "    <tr>\n",
       "      <th>...</th>\n",
       "      <td>...</td>\n",
       "      <td>...</td>\n",
       "      <td>...</td>\n",
       "      <td>...</td>\n",
       "      <td>...</td>\n",
       "      <td>...</td>\n",
       "      <td>...</td>\n",
       "      <td>...</td>\n",
       "      <td>...</td>\n",
       "      <td>...</td>\n",
       "      <td>...</td>\n",
       "      <td>...</td>\n",
       "      <td>...</td>\n",
       "      <td>...</td>\n",
       "      <td>...</td>\n",
       "      <td>...</td>\n",
       "      <td>...</td>\n",
       "      <td>...</td>\n",
       "      <td>...</td>\n",
       "      <td>...</td>\n",
       "      <td>...</td>\n",
       "    </tr>\n",
       "    <tr>\n",
       "      <th>Zombie Chow</th>\n",
       "      <td>NaN</td>\n",
       "      <td>NaN</td>\n",
       "      <td>NaN</td>\n",
       "      <td>NaN</td>\n",
       "      <td>NaN</td>\n",
       "      <td>NaN</td>\n",
       "      <td>NaN</td>\n",
       "      <td>NaN</td>\n",
       "      <td>NaN</td>\n",
       "      <td>NaN</td>\n",
       "      <td>...</td>\n",
       "      <td>NaN</td>\n",
       "      <td>NaN</td>\n",
       "      <td>NaN</td>\n",
       "      <td>NaN</td>\n",
       "      <td>NaN</td>\n",
       "      <td>NaN</td>\n",
       "      <td>NaN</td>\n",
       "      <td>NaN</td>\n",
       "      <td>NaN</td>\n",
       "      <td>NaN</td>\n",
       "    </tr>\n",
       "    <tr>\n",
       "      <th>Zoobot</th>\n",
       "      <td>NaN</td>\n",
       "      <td>NaN</td>\n",
       "      <td>NaN</td>\n",
       "      <td>NaN</td>\n",
       "      <td>BATTLECRY</td>\n",
       "      <td>NaN</td>\n",
       "      <td>NaN</td>\n",
       "      <td>NaN</td>\n",
       "      <td>NaN</td>\n",
       "      <td>NaN</td>\n",
       "      <td>...</td>\n",
       "      <td>NaN</td>\n",
       "      <td>NaN</td>\n",
       "      <td>NaN</td>\n",
       "      <td>NaN</td>\n",
       "      <td>NaN</td>\n",
       "      <td>NaN</td>\n",
       "      <td>NaN</td>\n",
       "      <td>NaN</td>\n",
       "      <td>NaN</td>\n",
       "      <td>NaN</td>\n",
       "    </tr>\n",
       "    <tr>\n",
       "      <th>Zul'Drak Ritualist</th>\n",
       "      <td>NaN</td>\n",
       "      <td>NaN</td>\n",
       "      <td>NaN</td>\n",
       "      <td>NaN</td>\n",
       "      <td>BATTLECRY</td>\n",
       "      <td>NaN</td>\n",
       "      <td>NaN</td>\n",
       "      <td>NaN</td>\n",
       "      <td>NaN</td>\n",
       "      <td>NaN</td>\n",
       "      <td>...</td>\n",
       "      <td>NaN</td>\n",
       "      <td>NaN</td>\n",
       "      <td>NaN</td>\n",
       "      <td>NaN</td>\n",
       "      <td>NaN</td>\n",
       "      <td>TAUNT</td>\n",
       "      <td>NaN</td>\n",
       "      <td>NaN</td>\n",
       "      <td>NaN</td>\n",
       "      <td>NaN</td>\n",
       "    </tr>\n",
       "    <tr>\n",
       "      <th>Zul'jin</th>\n",
       "      <td>NaN</td>\n",
       "      <td>NaN</td>\n",
       "      <td>NaN</td>\n",
       "      <td>NaN</td>\n",
       "      <td>BATTLECRY</td>\n",
       "      <td>NaN</td>\n",
       "      <td>NaN</td>\n",
       "      <td>NaN</td>\n",
       "      <td>NaN</td>\n",
       "      <td>NaN</td>\n",
       "      <td>...</td>\n",
       "      <td>NaN</td>\n",
       "      <td>NaN</td>\n",
       "      <td>NaN</td>\n",
       "      <td>NaN</td>\n",
       "      <td>NaN</td>\n",
       "      <td>NaN</td>\n",
       "      <td>NaN</td>\n",
       "      <td>NaN</td>\n",
       "      <td>NaN</td>\n",
       "      <td>NaN</td>\n",
       "    </tr>\n",
       "    <tr>\n",
       "      <th>Zzeraku the Warped</th>\n",
       "      <td>NaN</td>\n",
       "      <td>NaN</td>\n",
       "      <td>NaN</td>\n",
       "      <td>NaN</td>\n",
       "      <td>NaN</td>\n",
       "      <td>NaN</td>\n",
       "      <td>NaN</td>\n",
       "      <td>NaN</td>\n",
       "      <td>NaN</td>\n",
       "      <td>NaN</td>\n",
       "      <td>...</td>\n",
       "      <td>NaN</td>\n",
       "      <td>NaN</td>\n",
       "      <td>NaN</td>\n",
       "      <td>NaN</td>\n",
       "      <td>NaN</td>\n",
       "      <td>NaN</td>\n",
       "      <td>NaN</td>\n",
       "      <td>TRIGGER_VISUAL</td>\n",
       "      <td>NaN</td>\n",
       "      <td>NaN</td>\n",
       "    </tr>\n",
       "  </tbody>\n",
       "</table>\n",
       "<p>2529 rows × 54 columns</p>\n",
       "</div>"
      ],
      "text/plain": [
       "mechanics                NaN ADJACENT_BUFF AFFECTED_BY_SPELL_POWER AURA  \\\n",
       "name                                                                      \n",
       "A Light in the Darkness  NaN           NaN                     NaN  NaN   \n",
       "A New Challenger...      NaN           NaN                     NaN  NaN   \n",
       "Aberrant Berserker       NaN           NaN                     NaN  NaN   \n",
       "Abominable Bowman        NaN           NaN                     NaN  NaN   \n",
       "Abomination              NaN           NaN                     NaN  NaN   \n",
       "...                      ...           ...                     ...  ...   \n",
       "Zombie Chow              NaN           NaN                     NaN  NaN   \n",
       "Zoobot                   NaN           NaN                     NaN  NaN   \n",
       "Zul'Drak Ritualist       NaN           NaN                     NaN  NaN   \n",
       "Zul'jin                  NaN           NaN                     NaN  NaN   \n",
       "Zzeraku the Warped       NaN           NaN                     NaN  NaN   \n",
       "\n",
       "mechanics                BATTLECRY CANT_ATTACK  \\\n",
       "name                                             \n",
       "A Light in the Darkness        NaN         NaN   \n",
       "A New Challenger...            NaN         NaN   \n",
       "Aberrant Berserker             NaN         NaN   \n",
       "Abominable Bowman              NaN         NaN   \n",
       "Abomination                    NaN         NaN   \n",
       "...                            ...         ...   \n",
       "Zombie Chow                    NaN         NaN   \n",
       "Zoobot                   BATTLECRY         NaN   \n",
       "Zul'Drak Ritualist       BATTLECRY         NaN   \n",
       "Zul'jin                  BATTLECRY         NaN   \n",
       "Zzeraku the Warped             NaN         NaN   \n",
       "\n",
       "mechanics               CANT_BE_TARGETED_BY_HERO_POWERS  \\\n",
       "name                                                      \n",
       "A Light in the Darkness                             NaN   \n",
       "A New Challenger...                                 NaN   \n",
       "Aberrant Berserker                                  NaN   \n",
       "Abominable Bowman                                   NaN   \n",
       "Abomination                                         NaN   \n",
       "...                                                 ...   \n",
       "Zombie Chow                                         NaN   \n",
       "Zoobot                                              NaN   \n",
       "Zul'Drak Ritualist                                  NaN   \n",
       "Zul'jin                                             NaN   \n",
       "Zzeraku the Warped                                  NaN   \n",
       "\n",
       "mechanics               CANT_BE_TARGETED_BY_SPELLS CHARGE CHOOSE_ONE  ...  \\\n",
       "name                                                                  ...   \n",
       "A Light in the Darkness                        NaN    NaN        NaN  ...   \n",
       "A New Challenger...                            NaN    NaN        NaN  ...   \n",
       "Aberrant Berserker                             NaN    NaN        NaN  ...   \n",
       "Abominable Bowman                              NaN    NaN        NaN  ...   \n",
       "Abomination                                    NaN    NaN        NaN  ...   \n",
       "...                                            ...    ...        ...  ...   \n",
       "Zombie Chow                                    NaN    NaN        NaN  ...   \n",
       "Zoobot                                         NaN    NaN        NaN  ...   \n",
       "Zul'Drak Ritualist                             NaN    NaN        NaN  ...   \n",
       "Zul'jin                                        NaN    NaN        NaN  ...   \n",
       "Zzeraku the Warped                             NaN    NaN        NaN  ...   \n",
       "\n",
       "mechanics               SIDEQUEST SILENCE SPELLPOWER START_OF_GAME STEALTH  \\\n",
       "name                                                                         \n",
       "A Light in the Darkness       NaN     NaN        NaN           NaN     NaN   \n",
       "A New Challenger...           NaN     NaN        NaN           NaN     NaN   \n",
       "Aberrant Berserker            NaN     NaN        NaN           NaN     NaN   \n",
       "Abominable Bowman             NaN     NaN        NaN           NaN     NaN   \n",
       "Abomination                   NaN     NaN        NaN           NaN     NaN   \n",
       "...                           ...     ...        ...           ...     ...   \n",
       "Zombie Chow                   NaN     NaN        NaN           NaN     NaN   \n",
       "Zoobot                        NaN     NaN        NaN           NaN     NaN   \n",
       "Zul'Drak Ritualist            NaN     NaN        NaN           NaN     NaN   \n",
       "Zul'jin                       NaN     NaN        NaN           NaN     NaN   \n",
       "Zzeraku the Warped            NaN     NaN        NaN           NaN     NaN   \n",
       "\n",
       "mechanics                TAUNT TOPDECK  TRIGGER_VISUAL TWINSPELL WINDFURY  \n",
       "name                                                                       \n",
       "A Light in the Darkness    NaN     NaN             NaN       NaN      NaN  \n",
       "A New Challenger...        NaN     NaN             NaN       NaN      NaN  \n",
       "Aberrant Berserker         NaN     NaN             NaN       NaN      NaN  \n",
       "Abominable Bowman          NaN     NaN             NaN       NaN      NaN  \n",
       "Abomination              TAUNT     NaN             NaN       NaN      NaN  \n",
       "...                        ...     ...             ...       ...      ...  \n",
       "Zombie Chow                NaN     NaN             NaN       NaN      NaN  \n",
       "Zoobot                     NaN     NaN             NaN       NaN      NaN  \n",
       "Zul'Drak Ritualist       TAUNT     NaN             NaN       NaN      NaN  \n",
       "Zul'jin                    NaN     NaN             NaN       NaN      NaN  \n",
       "Zzeraku the Warped         NaN     NaN  TRIGGER_VISUAL       NaN      NaN  \n",
       "\n",
       "[2529 rows x 54 columns]"
      ]
     },
     "execution_count": 103,
     "metadata": {},
     "output_type": "execute_result"
    }
   ],
   "source": [
    "test = data.mechanics.explode()\n",
    "test1 = test.reset_index()\n",
    "test1.pivot(columns = 'mechanics', index = 'name', values = 'mechanics')\n"
   ]
  },
  {
   "cell_type": "markdown",
   "metadata": {},
   "source": [
    "# Hs_Replay Data"
   ]
  },
  {
   "cell_type": "code",
   "execution_count": null,
   "metadata": {},
   "outputs": [],
   "source": [
    "hs_replay = pd.read_csv(\"hs_replay.csv\") # read in scraped data"
   ]
  },
  {
   "cell_type": "code",
   "execution_count": null,
   "metadata": {},
   "outputs": [],
   "source": [
    "# add types to data\n",
    "b = [\"in decks\", \"copies\", \"deck wr\", \"times played\", \"per of played cards\", \"played wr\"]\n",
    "hs_replay[\"type\"] = b * 1384"
   ]
  },
  {
   "cell_type": "code",
   "execution_count": null,
   "metadata": {},
   "outputs": [],
   "source": [
    "# add names of the cards to the data\n",
    "with open(\"test.html\") as fp:\n",
    "    soup = BeautifulSoup(fp)\n",
    "\n",
    "names = []\n",
    "for i in range(len(soup.find_all(\"figcaption\"))):\n",
    "    \n",
    "    names.append(soup.find_all(\"figcaption\")[i].string)\n",
    "hs_replay[\"names\"] = [val for val in names for _ in range(0,6)]\n"
   ]
  },
  {
   "cell_type": "code",
   "execution_count": null,
   "metadata": {},
   "outputs": [],
   "source": [
    "# bring data into form as on the website\n",
    "hs_replay_data = hs_replay.pivot(index = \"names\", columns = \"type\", values = \"propertyName1\")"
   ]
  },
  {
   "cell_type": "code",
   "execution_count": null,
   "metadata": {},
   "outputs": [],
   "source": [
    "# join two datasets\n",
    "test = data.join(hs_replay_data[\"in decks\"], how = \"inner\")\n",
    "\n",
    "# create binary feature\n",
    "test[\"in decks\"] = test[\"in decks\"].str.replace(\"%\", '').astype(\"float\")\n",
    "test[\"y\"] = np.where(test[\"in decks\"] > 1, 1, 0)\n",
    "\n",
    "test[\"leg_dum\"] = np.where(test.rarity == \"LEGENDARY\", 1 ,0)"
   ]
  },
  {
   "cell_type": "markdown",
   "metadata": {},
   "source": [
    "# Feature engeneering from card text"
   ]
  },
  {
   "cell_type": "code",
   "execution_count": null,
   "metadata": {},
   "outputs": [],
   "source": [
    "test[\"cond\"] = np.where(test.text.str.contains('If') == True , 1, 0)\n",
    "test[\"summon\"] = np.where(test.text.str.contains('Summon') == True , 1, 0)"
   ]
  },
  {
   "cell_type": "code",
   "execution_count": null,
   "metadata": {},
   "outputs": [],
   "source": [
    "test.text.dropna().loc[test.text.str.contains(\"Costs \\(\\d\\) less\", regex = True).dropna()]"
   ]
  },
  {
   "cell_type": "code",
   "execution_count": null,
   "metadata": {},
   "outputs": [],
   "source": [
    "feat = ['cardClass', \"cost\", \"rarity\", \"type\", \"attack\", \"health\", \"set\" ,\"race\", \"durability\", \"overload\", \"spellDamage\", \"leg_dum\"]\n",
    "for i in feat:\n",
    "    test[i] = test[i].astype(\"category\")\n",
    "feat.append(\"cond\")\n",
    "feat.append(\"summon\")\n",
    "\n"
   ]
  },
  {
   "cell_type": "markdown",
   "metadata": {},
   "source": [
    "# Lightgbm"
   ]
  },
  {
   "cell_type": "code",
   "execution_count": null,
   "metadata": {},
   "outputs": [],
   "source": [
    "hallo = lgb.LGBMClassifier(n_estimators = 200)\n",
    "hallo.fit(test[feat], test.y)\n",
    "hallo.predict(test[feat])"
   ]
  },
  {
   "cell_type": "code",
   "execution_count": null,
   "metadata": {},
   "outputs": [],
   "source": [
    "accuracy_score(test.y, hallo.predict(test[feat]))\n"
   ]
  },
  {
   "cell_type": "code",
   "execution_count": null,
   "metadata": {},
   "outputs": [],
   "source": [
    "confusion_matrix(test.y, hallo.predict(test[feat]))\n"
   ]
  },
  {
   "cell_type": "code",
   "execution_count": null,
   "metadata": {},
   "outputs": [],
   "source": [
    "X_train, X_test, y_train, y_test = train_test_split(test[feat], test.y)"
   ]
  },
  {
   "cell_type": "code",
   "execution_count": null,
   "metadata": {},
   "outputs": [],
   "source": [
    "hallo = lgb.LGBMClassifier(n_estimators = 1000, learning_rate = 0.1, num_leaves = 15)\n",
    "hallo.fit(X_train, y_train)\n",
    "\n",
    "accuracy_score(y_test, hallo.predict(X_test))\n"
   ]
  },
  {
   "cell_type": "code",
   "execution_count": null,
   "metadata": {},
   "outputs": [],
   "source": [
    "confusion_matrix(y_test, hallo.predict(X_test))"
   ]
  },
  {
   "cell_type": "code",
   "execution_count": null,
   "metadata": {},
   "outputs": [],
   "source": [
    "lgb.plot_importance(hallo, max_num_features = None)"
   ]
  },
  {
   "cell_type": "code",
   "execution_count": null,
   "metadata": {},
   "outputs": [],
   "source": [
    "X_train.type"
   ]
  },
  {
   "cell_type": "code",
   "execution_count": null,
   "metadata": {},
   "outputs": [],
   "source": [
    "test.loc[\"Abomination\", \"mechanics\"] = test.loc[\"Abomination\", \"mechanics\"][1]"
   ]
  },
  {
   "cell_type": "code",
   "execution_count": null,
   "metadata": {},
   "outputs": [],
   "source": [
    "test.loc[\"Abomination\", \"mechanics\"]"
   ]
  },
  {
   "cell_type": "code",
   "execution_count": null,
   "metadata": {},
   "outputs": [],
   "source": []
  },
  {
   "cell_type": "code",
   "execution_count": null,
   "metadata": {},
   "outputs": [],
   "source": [
    "data.columns.to_list()"
   ]
  },
  {
   "cell_type": "code",
   "execution_count": null,
   "metadata": {},
   "outputs": [],
   "source": [
    "data.head()"
   ]
  },
  {
   "cell_type": "code",
   "execution_count": null,
   "metadata": {},
   "outputs": [],
   "source": [
    "pd.get_dummies(data[['cardClass','rarity', 'set','type','cost','attack','health']], drop_first = True)"
   ]
  },
  {
   "cell_type": "code",
   "execution_count": null,
   "metadata": {},
   "outputs": [],
   "source": [
    "a = np.ones(5)\n",
    "a"
   ]
  },
  {
   "cell_type": "code",
   "execution_count": null,
   "metadata": {},
   "outputs": [],
   "source": [
    "b = np.ones((5, 3))\n",
    "b.T"
   ]
  },
  {
   "cell_type": "code",
   "execution_count": null,
   "metadata": {},
   "outputs": [],
   "source": [
    "test"
   ]
  },
  {
   "cell_type": "code",
   "execution_count": null,
   "metadata": {},
   "outputs": [],
   "source": [
    "data"
   ]
  },
  {
   "cell_type": "code",
   "execution_count": null,
   "metadata": {},
   "outputs": [],
   "source": [
    "cat_columns = test.select_dtypes(['category']).columns\n",
    "test[cat_columns] = test[cat_columns].apply(lambda x: x.cat.codes)"
   ]
  },
  {
   "cell_type": "code",
   "execution_count": null,
   "metadata": {},
   "outputs": [],
   "source": [
    "test"
   ]
  },
  {
   "cell_type": "code",
   "execution_count": null,
   "metadata": {},
   "outputs": [],
   "source": [
    "test.dtypes"
   ]
  },
  {
   "cell_type": "markdown",
   "metadata": {},
   "source": [
    "# UMAP"
   ]
  },
  {
   "cell_type": "code",
   "execution_count": null,
   "metadata": {},
   "outputs": [],
   "source": [
    "import umap"
   ]
  },
  {
   "cell_type": "code",
   "execution_count": null,
   "metadata": {},
   "outputs": [],
   "source": [
    "test[cat_columns]"
   ]
  },
  {
   "cell_type": "code",
   "execution_count": null,
   "metadata": {},
   "outputs": [],
   "source": [
    "mapper = umap.UMAP(n_neighbors = 30, min_dist=0.1).fit(test[cat_columns])"
   ]
  },
  {
   "cell_type": "code",
   "execution_count": null,
   "metadata": {},
   "outputs": [],
   "source": [
    "import umap.plot"
   ]
  },
  {
   "cell_type": "code",
   "execution_count": null,
   "metadata": {},
   "outputs": [],
   "source": [
    "umap.plot.points(mapper, values = test.y, theme='darkblue')"
   ]
  },
  {
   "cell_type": "code",
   "execution_count": null,
   "metadata": {},
   "outputs": [],
   "source": [
    "hover_data = pd.DataFrame({'index':test.index,\n",
    "                           'label':test.y})\n",
    "hover_data['item'] = np.where(hover_data.label == 0, \"no\" , \"yes\")"
   ]
  },
  {
   "cell_type": "code",
   "execution_count": null,
   "metadata": {},
   "outputs": [],
   "source": [
    "umap.plot.output_notebook()"
   ]
  },
  {
   "cell_type": "code",
   "execution_count": null,
   "metadata": {},
   "outputs": [],
   "source": [
    "p = umap.plot.interactive(mapper, labels = test.y.values, hover_data=hover_data.loc[:, [\"index\", \"label\", \"item\"]], point_size=2)\n",
    "umap.plot.show(p)"
   ]
  },
  {
   "cell_type": "code",
   "execution_count": null,
   "metadata": {},
   "outputs": [],
   "source": []
  },
  {
   "cell_type": "code",
   "execution_count": null,
   "metadata": {},
   "outputs": [],
   "source": []
  }
 ],
 "metadata": {
  "kernelspec": {
   "display_name": "Python 3",
   "language": "python",
   "name": "python3"
  },
  "language_info": {
   "codemirror_mode": {
    "name": "ipython",
    "version": 3
   },
   "file_extension": ".py",
   "mimetype": "text/x-python",
   "name": "python",
   "nbconvert_exporter": "python",
   "pygments_lexer": "ipython3",
   "version": "3.7.5"
  }
 },
 "nbformat": 4,
 "nbformat_minor": 2
}
